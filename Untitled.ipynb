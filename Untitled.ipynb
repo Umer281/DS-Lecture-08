{
 "cells": [
  {
   "cell_type": "code",
   "execution_count": 138,
   "metadata": {},
   "outputs": [],
   "source": [
    "import numpy as np"
   ]
  },
  {
   "cell_type": "code",
   "execution_count": 211,
   "metadata": {},
   "outputs": [],
   "source": [
    "class Queue:\n",
    "    def __init__(self):\n",
    "        self.__end = -1\n",
    "        self.__size = 0\n",
    "        self.__data = np.zeros((10,), dtype=int)\n",
    "        \n",
    "    def isFull(self):\n",
    "        return self.__size == len(self.__data)\n",
    "\n",
    "    def isEmpty(self):\n",
    "        return self.__size == 0\n",
    "    \n",
    "    def size(self):\n",
    "        return self.__size\n",
    "\n",
    "    def add(self, value):\n",
    "        if self.isFull():\n",
    "            print(\"Queue is full\")\n",
    "        else:\n",
    "            self.__end += 1\n",
    "            self.__data[self.__end] = value\n",
    "            self.__size += 1\n",
    "            \n",
    "    def remove(self):\n",
    "        if self.isEmpty():\n",
    "            print(\"Queue is empty\")\n",
    "            return None\n",
    "        else:\n",
    "            removed = self.__data[0]\n",
    "            for i in range(1, self.__size):\n",
    "                self.__data[i-1] = self.__data[i]\n",
    "            self.__end -= 1\n",
    "            self.__size -= 1\n",
    "            return removed\n",
    "    \n",
    "    def __repr__(self):\n",
    "        return str(self.__data[:self.__end+1])\n",
    "    "
   ]
  },
  {
   "cell_type": "code",
   "execution_count": 140,
   "metadata": {},
   "outputs": [],
   "source": [
    "q = Queue()"
   ]
  },
  {
   "cell_type": "code",
   "execution_count": 141,
   "metadata": {},
   "outputs": [
    {
     "name": "stdout",
     "output_type": "stream",
     "text": [
      "[2 4 8]\n"
     ]
    }
   ],
   "source": [
    "q.add(2)\n",
    "q.add(4)\n",
    "q.add(8)\n",
    "\n",
    "print(q)"
   ]
  },
  {
   "cell_type": "code",
   "execution_count": 142,
   "metadata": {},
   "outputs": [
    {
     "data": {
      "text/plain": [
       "2"
      ]
     },
     "execution_count": 142,
     "metadata": {},
     "output_type": "execute_result"
    }
   ],
   "source": [
    "q.remove()"
   ]
  },
  {
   "cell_type": "code",
   "execution_count": 143,
   "metadata": {},
   "outputs": [
    {
     "name": "stdout",
     "output_type": "stream",
     "text": [
      "[4 8]\n"
     ]
    }
   ],
   "source": [
    "print(q)"
   ]
  },
  {
   "cell_type": "markdown",
   "metadata": {},
   "source": [
    "## Circular Queue"
   ]
  },
  {
   "cell_type": "code",
   "execution_count": 190,
   "metadata": {},
   "outputs": [],
   "source": [
    "class CircularQueue:\n",
    "    \n",
    "    def __init__(self):\n",
    "        self.__end = 0\n",
    "        self.__front = 0\n",
    "        self.__size = 0\n",
    "        self.__data = np.zeros((10,), dtype=int)\n",
    "        \n",
    "    def __repr__(self):\n",
    "        if self.__size == 0:\n",
    "            return '[]'\n",
    "        if self.__front < self.__end:\n",
    "            cut = self.__data[self.__front : self.__end]\n",
    "        else:\n",
    "            cut1 = self.__data[self.__front : ] \n",
    "            cut2 = self.__data[0: self.__end]\n",
    "            cut = np.concatenate((cut2, cut1))\n",
    "        return f'[{\", \".join(map(str, cut))}]'\n",
    "    \n",
    "    def add(self, item):\n",
    "        if self.isFull():\n",
    "            print(\"Queue is full\")\n",
    "        else:\n",
    "            self.__data[self.__end] = item\n",
    "            self.__end += 1\n",
    "            self.__end = self.__end % len(self.__data)\n",
    "            self.__size += 1\n",
    "    \n",
    "    def remove(self):\n",
    "        if self.isEmpty():\n",
    "            print(\"Queue is empty\")\n",
    "            return None\n",
    "        else:\n",
    "            removed = self.__data[self.__front]\n",
    "            self.__front += 1\n",
    "            self.__front = self.__front % len(self.__data)\n",
    "            self.__size -= 1\n",
    "            return removed\n",
    "    \n",
    "    def isFull(self):\n",
    "        return self.__size == len(self.__data)\n",
    "    \n",
    "    def isEmpty(self):\n",
    "        \n",
    "        return self.__size == 0"
   ]
  },
  {
   "cell_type": "code",
   "execution_count": 195,
   "metadata": {},
   "outputs": [
    {
     "name": "stdout",
     "output_type": "stream",
     "text": [
      "[1, 2, 3, 4, 5, 6, 7, 8, 9, 10]\n"
     ]
    }
   ],
   "source": [
    "cq = CircularQueue()\n",
    "\n",
    "for i in range(10):\n",
    "    cq.add(i+1)\n",
    "\n",
    "print(cq)"
   ]
  },
  {
   "cell_type": "code",
   "execution_count": 192,
   "metadata": {},
   "outputs": [
    {
     "name": "stdout",
     "output_type": "stream",
     "text": [
      "Queue is full\n"
     ]
    }
   ],
   "source": [
    "cq.add(34)"
   ]
  },
  {
   "cell_type": "code",
   "execution_count": 161,
   "metadata": {},
   "outputs": [
    {
     "name": "stdout",
     "output_type": "stream",
     "text": [
      "[1, 2, 3, 4, 5, 6, 7, 8, 9, 10]\n"
     ]
    }
   ],
   "source": [
    "print(cq)"
   ]
  },
  {
   "cell_type": "code",
   "execution_count": 162,
   "metadata": {},
   "outputs": [
    {
     "data": {
      "text/plain": [
       "1"
      ]
     },
     "execution_count": 162,
     "metadata": {},
     "output_type": "execute_result"
    }
   ],
   "source": [
    "cq.remove()"
   ]
  },
  {
   "cell_type": "code",
   "execution_count": 163,
   "metadata": {},
   "outputs": [
    {
     "name": "stdout",
     "output_type": "stream",
     "text": [
      "[2, 3, 4, 5, 6, 7, 8, 9, 10]\n"
     ]
    }
   ],
   "source": [
    "print(cq)"
   ]
  },
  {
   "cell_type": "code",
   "execution_count": 164,
   "metadata": {},
   "outputs": [
    {
     "name": "stdout",
     "output_type": "stream",
     "text": [
      "[11, 2, 3, 4, 5, 6, 7, 8, 9, 10]\n"
     ]
    }
   ],
   "source": [
    "cq.add(11)\n",
    "print(cq)"
   ]
  },
  {
   "cell_type": "code",
   "execution_count": 196,
   "metadata": {},
   "outputs": [],
   "source": [
    "for i in range(8):\n",
    "    cq.remove()"
   ]
  },
  {
   "cell_type": "code",
   "execution_count": 197,
   "metadata": {},
   "outputs": [
    {
     "name": "stdout",
     "output_type": "stream",
     "text": [
      "[9, 10]\n"
     ]
    }
   ],
   "source": [
    "print(cq)"
   ]
  },
  {
   "cell_type": "code",
   "execution_count": 198,
   "metadata": {},
   "outputs": [],
   "source": [
    "cut = [1,2,5,2,3,5]"
   ]
  },
  {
   "cell_type": "code",
   "execution_count": null,
   "metadata": {},
   "outputs": [],
   "source": [
    "f'[{\", \".join(map(str, cut))}]'"
   ]
  },
  {
   "cell_type": "code",
   "execution_count": 203,
   "metadata": {},
   "outputs": [],
   "source": [
    "s = \"-\".join(map(str, cut))\n",
    "# list joined"
   ]
  },
  {
   "cell_type": "code",
   "execution_count": 204,
   "metadata": {},
   "outputs": [
    {
     "data": {
      "text/plain": [
       "'[1-2-5-2-3-5]'"
      ]
     },
     "execution_count": 204,
     "metadata": {},
     "output_type": "execute_result"
    }
   ],
   "source": [
    "# add []\n",
    "ss = \"[{}]\".format(s)\n",
    "ss"
   ]
  },
  {
   "cell_type": "code",
   "execution_count": 205,
   "metadata": {},
   "outputs": [
    {
     "data": {
      "text/plain": [
       "'[1-2-5-2-3-5]'"
      ]
     },
     "execution_count": 205,
     "metadata": {},
     "output_type": "execute_result"
    }
   ],
   "source": [
    "sss = f\"[{s}]\"\n",
    "sss"
   ]
  },
  {
   "cell_type": "markdown",
   "metadata": {},
   "source": [
    "## Stack using Queue"
   ]
  },
  {
   "cell_type": "code",
   "execution_count": 225,
   "metadata": {},
   "outputs": [],
   "source": [
    "## add efficient\n",
    "class SUQ:\n",
    "    def __init__(self):\n",
    "        self.q1 = Queue()\n",
    "        self.q2 = Queue()\n",
    "    \n",
    "    def add(self, value):\n",
    "        self.q1.add(value)\n",
    "    \n",
    "    def pop(self):\n",
    "        while self.q1.size() != 1:\n",
    "            self.q2.add(self.q1.remove())\n",
    "        removed = self.q1.remove()\n",
    "        self.q1, self.q2 = self.q2, self.q1\n",
    "        return removed\n",
    "        \n",
    "    def dis(self):\n",
    "        print(self.q1)"
   ]
  },
  {
   "cell_type": "code",
   "execution_count": 226,
   "metadata": {},
   "outputs": [],
   "source": [
    "sq = SUQ()"
   ]
  },
  {
   "cell_type": "code",
   "execution_count": 227,
   "metadata": {},
   "outputs": [],
   "source": [
    "sq.add(2)\n",
    "sq.add(3)\n",
    "sq.add(5)"
   ]
  },
  {
   "cell_type": "code",
   "execution_count": 228,
   "metadata": {},
   "outputs": [
    {
     "name": "stdout",
     "output_type": "stream",
     "text": [
      "[2 3 5]\n"
     ]
    }
   ],
   "source": [
    "sq.dis()"
   ]
  },
  {
   "cell_type": "code",
   "execution_count": 229,
   "metadata": {},
   "outputs": [
    {
     "data": {
      "text/plain": [
       "5"
      ]
     },
     "execution_count": 229,
     "metadata": {},
     "output_type": "execute_result"
    }
   ],
   "source": [
    "sq.pop()"
   ]
  },
  {
   "cell_type": "code",
   "execution_count": 224,
   "metadata": {},
   "outputs": [
    {
     "name": "stdout",
     "output_type": "stream",
     "text": [
      "[2 3]\n"
     ]
    }
   ],
   "source": [
    "sq.dis()"
   ]
  },
  {
   "cell_type": "code",
   "execution_count": 237,
   "metadata": {},
   "outputs": [],
   "source": [
    "## remove efficient\n",
    "class SUQ2:\n",
    "    def __init__(self):\n",
    "        self.q1 = CircularQueue()\n",
    "        self.q2 = CircularQueue()\n",
    "    \n",
    "    def add(self, value):\n",
    "        self.q2.add(value)\n",
    "        while not self.q1.isEmpty():\n",
    "            self.q2.add(self.q1.remove())\n",
    "        self.q1, self.q2 = self.q2, self.q1\n",
    "    \n",
    "    def pop(self):\n",
    "        return self.q1.remove()\n",
    "        \n",
    "    def dis(self):\n",
    "        print(self.q1)"
   ]
  },
  {
   "cell_type": "code",
   "execution_count": 238,
   "metadata": {},
   "outputs": [
    {
     "name": "stdout",
     "output_type": "stream",
     "text": [
      "[5, 4, 3, 2]\n",
      "[4, 3, 2]\n"
     ]
    }
   ],
   "source": [
    "stack = SUQ2()\n",
    "\n",
    "stack.add(2)\n",
    "stack.add(3)\n",
    "stack.add(4)\n",
    "stack.add(5)\n",
    "stack.dis()\n",
    "stack.pop()\n",
    "stack.dis()"
   ]
  },
  {
   "cell_type": "code",
   "execution_count": null,
   "metadata": {},
   "outputs": [],
   "source": []
  },
  {
   "cell_type": "code",
   "execution_count": null,
   "metadata": {},
   "outputs": [],
   "source": []
  }
 ],
 "metadata": {
  "kernelspec": {
   "display_name": "Python 3",
   "language": "python",
   "name": "python3"
  },
  "language_info": {
   "codemirror_mode": {
    "name": "ipython",
    "version": 3
   },
   "file_extension": ".py",
   "mimetype": "text/x-python",
   "name": "python",
   "nbconvert_exporter": "python",
   "pygments_lexer": "ipython3",
   "version": "3.8.0"
  }
 },
 "nbformat": 4,
 "nbformat_minor": 4
}
